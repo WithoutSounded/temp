{
 "cells": [
  {
   "cell_type": "code",
   "execution_count": 23,
   "metadata": {},
   "outputs": [],
   "source": [
    "import os\n",
    "import re"
   ]
  },
  {
   "cell_type": "markdown",
   "metadata": {},
   "source": [
    "##### re for chaos - \"[0-9]+-[a-zA-Z ]*|[a-zA-Z]+[ a-zA-Z]*\"\n",
    "\n",
    "##### re for format - \"[a-zA-Z]+[ a-zA-Z]*\""
   ]
  },
  {
   "cell_type": "code",
   "execution_count": 24,
   "metadata": {},
   "outputs": [],
   "source": [
    "read_path = 'E:\\\\project\\\\learning\\\\program\\\\dataCleaning'"
   ]
  },
  {
   "cell_type": "code",
   "execution_count": 25,
   "metadata": {},
   "outputs": [],
   "source": [
    "files = os.listdir(read_path)"
   ]
  },
  {
   "cell_type": "code",
   "execution_count": 26,
   "metadata": {},
   "outputs": [
    {
     "data": {
      "text/plain": [
       "['chaos.txt', 'format.txt']"
      ]
     },
     "execution_count": 26,
     "metadata": {},
     "output_type": "execute_result"
    }
   ],
   "source": [
    "files"
   ]
  },
  {
   "cell_type": "code",
   "execution_count": 27,
   "metadata": {},
   "outputs": [],
   "source": [
    "with open(read_path+'\\\\'+files[1],'r', encoding='utf-8') as f:\n",
    "    txt = f.read()"
   ]
  },
  {
   "cell_type": "code",
   "execution_count": 29,
   "metadata": {},
   "outputs": [],
   "source": [
    "result = [x.split('\\n') for x in txt.replace('\\u3000', '').split('\\t')]"
   ]
  },
  {
   "cell_type": "code",
   "execution_count": 30,
   "metadata": {},
   "outputs": [],
   "source": [
    "words_pattern = '[a-zA-Z]+[ a-zA-Z]*'"
   ]
  },
  {
   "cell_type": "code",
   "execution_count": 31,
   "metadata": {},
   "outputs": [
    {
     "name": "stdout",
     "output_type": "stream",
     "text": [
      "〔Organizations)\n",
      "company (noun) conglomerate (noun) corporate (adj) corporation (noun) enterprise (noun) establish (verb)\n",
      "establishment (noun)\n",
      "firm (noun)\n",
      "institute (noun)\n",
      "institution (noun)\n",
      "organize (verb) organized (adj)\n",
      "organization (noncount, noun)\n",
      "\n",
      "agricultural (adj) commerce (noncount) commercial (adj)\n",
      "factory (noun) industry (noncount, noun)\n",
      "industrial (adj) manufacture (verb)\n",
      "manufacturer (noun) manufacturing (noncount)\n",
      "private sector (noun) privatize (verb) sector (noun) services (plural)\n",
      "[structure)\n",
      "committee (noun) founder (noun) franchise (noun, verb) joint venture (noun) merge (verb)\n",
      "merger (noun) multinational (adj, noun) network (noun) owner (noun)\n",
      "ownership (noncount) parent company (noun) partner (noun)\n",
      "partnership (noun) private company (noun) stand-alone (adj) structure (noncount, verb) subcontract (verb)\n",
      "subcontractor (noun) subsidiary (adj, noun) takeover (noun)\n"
     ]
    }
   ],
   "source": [
    "for w in result:\n",
    "    for word in w:\n",
    "        print(word)\n",
    "        a= re.findall(words_pattern, word, flags=re.IGNORECASE)"
   ]
  },
  {
   "cell_type": "code",
   "execution_count": 34,
   "metadata": {},
   "outputs": [
    {
     "data": {
      "text/plain": [
       "['subcontractor ', 'noun', 'subsidiary ', 'adj', 'noun', 'takeover ', 'noun']"
      ]
     },
     "execution_count": 34,
     "metadata": {},
     "output_type": "execute_result"
    }
   ],
   "source": [
    "a"
   ]
  },
  {
   "cell_type": "code",
   "execution_count": null,
   "metadata": {},
   "outputs": [],
   "source": []
  },
  {
   "cell_type": "code",
   "execution_count": 35,
   "metadata": {},
   "outputs": [],
   "source": [
    "with open(read_path+'\\\\'+files[0],'r', encoding='utf-8') as f:\n",
    "    txt = f.read()"
   ]
  },
  {
   "cell_type": "code",
   "execution_count": 37,
   "metadata": {},
   "outputs": [],
   "source": [
    "result = [x.split('\\n') for x in txt.replace('\\u3000', '').split('\\t')]"
   ]
  },
  {
   "cell_type": "code",
   "execution_count": 51,
   "metadata": {},
   "outputs": [],
   "source": [
    "words_pattern = '[0-9]+-[a-zA-Z]+[ a-zA-Z]*|[a-zA-Z]+[ a-zA-Z]*'\n",
    "output = []\n",
    "for i in result:\n",
    "    for j in i:\n",
    "        a= re.findall(words_pattern, j, flags=re.IGNORECASE)\n",
    "        if a == []:\n",
    "            pass\n",
    "        else:\n",
    "            output += list(map(lambda string:string.strip(),a))"
   ]
  },
  {
   "cell_type": "code",
   "execution_count": 52,
   "metadata": {},
   "outputs": [
    {
     "data": {
      "text/plain": [
       "['360-degree feedback',\n",
       " 'a bottle of mineral water',\n",
       " 'a couple of',\n",
       " 'a great amount of',\n",
       " 'a hectic day',\n",
       " 'a la carte',\n",
       " 'a piece of cake',\n",
       " 'a small amount of',\n",
       " 'a thorough analysis',\n",
       " 'ability for investment',\n",
       " 'able',\n",
       " 'aboard',\n",
       " 'absence',\n",
       " 'absent',\n",
       " 'absentee',\n",
       " 'absentee rate',\n",
       " 'absenteeism',\n",
       " 'absolutely',\n",
       " 'absorb',\n",
       " 'absorption costing',\n",
       " 'abstract',\n",
       " 'abusive',\n",
       " 'abusive language',\n",
       " 'academic',\n",
       " 'academic background',\n",
       " 'accede',\n",
       " 'accelerate',\n",
       " 'acceleration',\n",
       " 'accelerative',\n",
       " 'accept',\n",
       " 'accept a draft',\n",
       " 'accept early retirement',\n",
       " 'acceptable',\n",
       " 'access',\n",
       " 'access the Internet',\n",
       " 'accessible',\n",
       " 'accessory',\n",
       " 'accident',\n",
       " 'accommodate',\n",
       " 'accommodation',\n",
       " 'accompany',\n",
       " 'accompany a colleague',\n",
       " 'accord',\n",
       " 'according to',\n",
       " 'account due',\n",
       " 'account payable',\n",
       " 'account receivable',\n",
       " 'accountability',\n",
       " 'accountable',\n",
       " 'accounting',\n",
       " 'accounting department',\n",
       " 'accounting period',\n",
       " 'accredit',\n",
       " 'accrued expenses',\n",
       " 'acculturation',\n",
       " 'accumulate',\n",
       " 'accumulation',\n",
       " 'accuracy',\n",
       " 'accurate',\n",
       " 'achieve',\n",
       " 'achievement',\n",
       " 'acknowledge',\n",
       " 'acquaint',\n",
       " 'acquaintance',\n",
       " 'acquire',\n",
       " 'acquisition',\n",
       " 'acquisition cost',\n",
       " 'acquisition tax',\n",
       " 'act',\n",
       " 'act of God',\n",
       " 'action plan',\n",
       " 'activate',\n",
       " 'active',\n",
       " 'active listening',\n",
       " 'activity',\n",
       " 'acute',\n",
       " 'ad hoc',\n",
       " 'adapt',\n",
       " 'add',\n",
       " 'addition',\n",
       " 'additional',\n",
       " 'address',\n",
       " 'addressee',\n",
       " 'adequacy',\n",
       " 'adequate',\n",
       " 'adhesive tape',\n",
       " 'adjourn',\n",
       " 'adjournment',\n",
       " 'adjuster',\n",
       " 'adjustment',\n",
       " 'administer',\n",
       " 'administration',\n",
       " 'administrative',\n",
       " 'administrative expenses',\n",
       " 'admission',\n",
       " 'admit',\n",
       " 'admonish',\n",
       " 'bleeding red ink',\n",
       " 'blue chip shares',\n",
       " 'blue chip stocks',\n",
       " 'blue chips',\n",
       " 'blue',\n",
       " 'collar',\n",
       " 'board of directors',\n",
       " 'point',\n",
       " 'bribery',\n",
       " 'brisk trading',\n",
       " 'brokers brother',\n",
       " 'sister',\n",
       " 'company',\n",
       " 'brown goods',\n",
       " 'budget',\n",
       " 'accusation',\n",
       " 'adopt',\n",
       " 'accuse',\n",
       " 'adoption',\n",
       " 'abandon',\n",
       " 'accused',\n",
       " 'adore',\n",
       " 'abandoned',\n",
       " 'accustom',\n",
       " 'adult',\n",
       " 'ability',\n",
       " 'ache',\n",
       " 'acceptable',\n",
       " 'accommodate',\n",
       " 'accomodation',\n",
       " 'achievement',\n",
       " 'administrative',\n",
       " 'advertisement',\n",
       " 'I',\n",
       " 'agenda',\n",
       " 's',\n",
       " 'allow alternative',\n",
       " 'amenity',\n",
       " 'activate',\n",
       " 'aisle',\n",
       " 'activity addition',\n",
       " 'allergic alleviate',\n",
       " 'above',\n",
       " 'abundant',\n",
       " 'additional',\n",
       " 'allow',\n",
       " 'accept',\n",
       " 'address',\n",
       " 'abide by',\n",
       " 'ability',\n",
       " 'abundant',\n",
       " 'accept',\n",
       " 'access',\n",
       " 'accommodate',\n",
       " 'accompany',\n",
       " 'accomplishment',\n",
       " 'accounting',\n",
       " 'accumulate',\n",
       " 'accurately',\n",
       " 'accustom',\n",
       " 'achievement']"
      ]
     },
     "execution_count": 52,
     "metadata": {},
     "output_type": "execute_result"
    }
   ],
   "source": [
    "output"
   ]
  },
  {
   "cell_type": "code",
   "execution_count": null,
   "metadata": {},
   "outputs": [],
   "source": []
  },
  {
   "cell_type": "code",
   "execution_count": null,
   "metadata": {},
   "outputs": [],
   "source": []
  },
  {
   "cell_type": "code",
   "execution_count": null,
   "metadata": {},
   "outputs": [],
   "source": []
  },
  {
   "cell_type": "code",
   "execution_count": null,
   "metadata": {},
   "outputs": [],
   "source": []
  },
  {
   "cell_type": "code",
   "execution_count": null,
   "metadata": {},
   "outputs": [],
   "source": []
  }
 ],
 "metadata": {
  "kernelspec": {
   "display_name": "Python 3",
   "language": "python",
   "name": "python3"
  },
  "language_info": {
   "codemirror_mode": {
    "name": "ipython",
    "version": 3
   },
   "file_extension": ".py",
   "mimetype": "text/x-python",
   "name": "python",
   "nbconvert_exporter": "python",
   "pygments_lexer": "ipython3",
   "version": "3.8.3"
  }
 },
 "nbformat": 4,
 "nbformat_minor": 4
}
